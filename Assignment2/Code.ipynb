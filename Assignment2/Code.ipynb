{
 "cells": [
  {
   "cell_type": "markdown",
   "id": "3176e44e",
   "metadata": {},
   "source": [
    "# FIT1043 Assignment 2 \n",
    "# CHEW YANG XUAN - 33520496"
   ]
  },
  {
   "cell_type": "markdown",
   "id": "2440c6f3",
   "metadata": {},
   "source": [
    "-------------------------------------------------------------------------------------------------------------------------"
   ]
  },
  {
   "cell_type": "markdown",
   "id": "e691ed85",
   "metadata": {},
   "source": [
    "## Introduction "
   ]
  },
  {
   "cell_type": "markdown",
   "id": "9cad8dc7",
   "metadata": {},
   "source": [
    "This report mainly is to conduct predictive analytics by building predictive models such as SVM and Random Forest Classification on the provided dataset which mainly focus on the music genre dataset from Spotify. The report is divided into Part A and Part B which are as follows:\n",
    "- Part A - Classification\n",
    "- Part B - Selection of Dataset, Clustering \n",
    "\n",
    "The aim of this assignment is to:\n",
    "1. Read and explain the data provided using basic statistics\n",
    "2. Split the dataset into training and testing\n",
    "3. Conduct multi-class classification using Support Vector Machine (SVM)\n",
    "4. Evaluate and compare predictive models used\n",
    "5. Explore and select a particular dataset that meets certain criteria\n",
    "6. Manage missing data within the dataset\n",
    "7. Conduct clustering using k-means\n"
   ]
  },
  {
   "cell_type": "markdown",
   "id": "2972f692",
   "metadata": {},
   "source": [
    "--------------------------------------------------------------------------------------------------------------------------"
   ]
  },
  {
   "cell_type": "markdown",
   "id": "0e89ba45",
   "metadata": {},
   "source": [
    "## Part A: Classification"
   ]
  },
  {
   "cell_type": "markdown",
   "id": "6c632f9a",
   "metadata": {},
   "source": [
    "### A1. Supervised Learning"
   ]
  },
  {
   "cell_type": "markdown",
   "id": "56a1a574",
   "metadata": {},
   "source": [
    "Question 1"
   ]
  },
  {
   "cell_type": "markdown",
   "id": "9464ed84",
   "metadata": {},
   "source": [
    "In supervised machine learning, it uses labeled data to allow the algorithms to learn to predict outcome from the input data. The main goal is to approximate the mapping function so well that when we have new input data(x), we are able to predict the output variable (y) for that data. This is important to allow us to make prediction or decision when there is given new data. \n",
    "Labelled data is a designation for peices of data that have been tagged with one or more labels identifying certain properties or characteristics, or classifications or contained object. For instance, in the provided music dataset, each music has been classified into different music genre such as Anime, Blues and others. These labels serve as a clear guide for a supervised machine learning algorithm to learn from. Train and test datasets are subsets of the labelled data used in supervised learning.\n",
    "\n",
    "For labeled data, they will be classify into two different sets which are training dataset and the test dataset. Train dataset is use to train and teach the machine learning model. It consists of input and output which will be use to train the model to extract the underlying features to make correct predictions. A test dataset is use to evaluate a model's performance. It consists of the input and output pairs that the model does not seen before in the training dataset. The model makes predictions on the test data, and it's performance is evaluated to determine how accurate is the model predicting a set of unseen data. Hence, it is important for us to seperate both training and test dataset in order to evaluate the model's performance to avoid overfitting issue."
   ]
  },
  {
   "cell_type": "markdown",
   "id": "d555f96c",
   "metadata": {},
   "source": [
    "Question 2"
   ]
  },
  {
   "cell_type": "code",
   "execution_count": 24,
   "id": "72a2e964",
   "metadata": {},
   "outputs": [],
   "source": [
    "# import necessary libraries \n",
    "import pandas as pd\n",
    "import numpy as np\n",
    "from sklearn.preprocessing import LabelEncoder\n",
    "dataset = pd.read_csv('FIT1043-MusicGenre-Dataset.csv')\n",
    "\n",
    "# Initialize LabelEncoder which transform names to numerical labels\n",
    "label_encoder = LabelEncoder()\n",
    "dataset['track_numeric'] = label_encoder.fit_transform(dataset['track_name'])\n",
    "dataset['artist_numeric'] = label_encoder.fit_transform(dataset['artist_name'])\n",
    "\n",
    "# Input Data: all columns except for the labelled data, \n",
    "x = dataset.iloc[:,[3,4,5,6,7,8,9,10,11,12,13,15,16]].values\n",
    "\n",
    "# Label Data: music genre\n",
    "y = dataset.iloc[:, 14].values"
   ]
  },
  {
   "cell_type": "markdown",
   "id": "e0bc1ab2",
   "metadata": {},
   "source": [
    "Question 3"
   ]
  },
  {
   "cell_type": "code",
   "execution_count": 25,
   "id": "6a67985d",
   "metadata": {},
   "outputs": [],
   "source": [
    "from sklearn.model_selection import train_test_split\n",
    "\n",
    "#split the 25% of the data for testing purposes\n",
    "x_train, x_test, y_train, y_test = train_test_split(x, y, test_size = 0.25, random_state = 0)"
   ]
  },
  {
   "cell_type": "markdown",
   "id": "97d896bf",
   "metadata": {},
   "source": [
    "### A2. Classification (training)"
   ]
  },
  {
   "cell_type": "markdown",
   "id": "f016b9f7",
   "metadata": {},
   "source": [
    "Question 1"
   ]
  },
  {
   "cell_type": "markdown",
   "id": "8bc13ea7",
   "metadata": {},
   "source": [
    "There are two types of classification, binary classification and multi-class classification. Binary classification is a process of classifying instances in which a given data is being classified into two classes. It’s a kind of prediction about which of two groups the thing belongs to based on the input features. Some of the most algorithms used by binary classification are Logistic Regression and Decision Trees. Multi-class classification is the process of classifying elements into unlimited number of classes. Unlike binary, it doesn’t restrict the number of classes. \n",
    "\n",
    "The main difference between two types of classification are binary classification can only have two classes for classification while multi-class classification has more than two classes for classifications. The classes are often represented by integers value. Examples for binary classification is email spam detection (spam or not spam) while example for multi-class classification is face classification."
   ]
  },
  {
   "cell_type": "markdown",
   "id": "4188408e",
   "metadata": {},
   "source": [
    "Question 2"
   ]
  },
  {
   "cell_type": "markdown",
   "id": "1b01df80",
   "metadata": {},
   "source": [
    "It is important to scale the data accordingly in machine learning because some of the objective functions will not function properly without feature scaling or normalisation. It will return inaccurate result when one of the features has a broad range of values, as the predictive model will be heavily influenced by this particular feature. Thus, every features should be normalised so that they have equal weightage and this prevent dominance.\n",
    "\n",
    "For instance, in the provided dataset, the popularity data range from 0 to 99 while other features such as danceability and energy ranges from 0 to 1. By scaling the all the features for input data, they will then have similar ranges which eventually makes more balanced predictions."
   ]
  },
  {
   "cell_type": "code",
   "execution_count": 26,
   "id": "62bde48e",
   "metadata": {},
   "outputs": [],
   "source": [
    "# Feature Scaling\n",
    "from sklearn.preprocessing import StandardScaler\n",
    "sc = StandardScaler()\n",
    "\n",
    "# scale it to have a mean of 0 and a certain standard deviation. \n",
    "x_train_scaled = sc.fit_transform(x_train)\n",
    "\n",
    "# applied to testing dataset\n",
    "x_test_scaled = sc.transform(x_test)"
   ]
  },
  {
   "cell_type": "markdown",
   "id": "225c84df",
   "metadata": {},
   "source": [
    "Question 3"
   ]
  },
  {
   "cell_type": "markdown",
   "id": "594e1fb4",
   "metadata": {},
   "source": [
    "(a) Support Vector Machine (SVM) is a supervised machine learning algorithm which mainly use for classification and regression. The main goal of the SVM algorithm is to find the best hyperplane in N-dimentional space which seperates different classes in the feature space. The hyperplane maximise the margin between the closest points of different classes to improve model performance. Margin refers to the distance between the hyperplane and the nearest data points from each class. The dimension of the hyperplane depends on the number of features. For instance, if it is a binary classification, the hyperplane would be a line that divides the space into two regions, one for each class. SVM can be divided into two main parts which are Linear SVM and Non-Linear SVM. Linear SVM refers to the data can be linearly seperated by a single straight line while Non-Linear SVM is use to classify the data when it cannot be seperated into two classes by a straight line."
   ]
  },
  {
   "cell_type": "markdown",
   "id": "8bc52d9d",
   "metadata": {},
   "source": [
    "(b) Kernel in SVM is a mathematical function which use to map the original input data points into high-dimensional feature spaces, so that the hyperplane can be easily found out even if the data points are not linearly separable in the original input space. This can be reach without calculating the coordinates of the data in the space. There are different types of kernels such as Linear Kernel, Polynomial Kernel, RBF Kernel and Sigmoid Kernel which have different tasks."
   ]
  },
  {
   "cell_type": "code",
   "execution_count": 27,
   "id": "7f721850",
   "metadata": {},
   "outputs": [
    {
     "data": {
      "text/html": [
       "<style>#sk-container-id-3 {color: black;}#sk-container-id-3 pre{padding: 0;}#sk-container-id-3 div.sk-toggleable {background-color: white;}#sk-container-id-3 label.sk-toggleable__label {cursor: pointer;display: block;width: 100%;margin-bottom: 0;padding: 0.3em;box-sizing: border-box;text-align: center;}#sk-container-id-3 label.sk-toggleable__label-arrow:before {content: \"▸\";float: left;margin-right: 0.25em;color: #696969;}#sk-container-id-3 label.sk-toggleable__label-arrow:hover:before {color: black;}#sk-container-id-3 div.sk-estimator:hover label.sk-toggleable__label-arrow:before {color: black;}#sk-container-id-3 div.sk-toggleable__content {max-height: 0;max-width: 0;overflow: hidden;text-align: left;background-color: #f0f8ff;}#sk-container-id-3 div.sk-toggleable__content pre {margin: 0.2em;color: black;border-radius: 0.25em;background-color: #f0f8ff;}#sk-container-id-3 input.sk-toggleable__control:checked~div.sk-toggleable__content {max-height: 200px;max-width: 100%;overflow: auto;}#sk-container-id-3 input.sk-toggleable__control:checked~label.sk-toggleable__label-arrow:before {content: \"▾\";}#sk-container-id-3 div.sk-estimator input.sk-toggleable__control:checked~label.sk-toggleable__label {background-color: #d4ebff;}#sk-container-id-3 div.sk-label input.sk-toggleable__control:checked~label.sk-toggleable__label {background-color: #d4ebff;}#sk-container-id-3 input.sk-hidden--visually {border: 0;clip: rect(1px 1px 1px 1px);clip: rect(1px, 1px, 1px, 1px);height: 1px;margin: -1px;overflow: hidden;padding: 0;position: absolute;width: 1px;}#sk-container-id-3 div.sk-estimator {font-family: monospace;background-color: #f0f8ff;border: 1px dotted black;border-radius: 0.25em;box-sizing: border-box;margin-bottom: 0.5em;}#sk-container-id-3 div.sk-estimator:hover {background-color: #d4ebff;}#sk-container-id-3 div.sk-parallel-item::after {content: \"\";width: 100%;border-bottom: 1px solid gray;flex-grow: 1;}#sk-container-id-3 div.sk-label:hover label.sk-toggleable__label {background-color: #d4ebff;}#sk-container-id-3 div.sk-serial::before {content: \"\";position: absolute;border-left: 1px solid gray;box-sizing: border-box;top: 0;bottom: 0;left: 50%;z-index: 0;}#sk-container-id-3 div.sk-serial {display: flex;flex-direction: column;align-items: center;background-color: white;padding-right: 0.2em;padding-left: 0.2em;position: relative;}#sk-container-id-3 div.sk-item {position: relative;z-index: 1;}#sk-container-id-3 div.sk-parallel {display: flex;align-items: stretch;justify-content: center;background-color: white;position: relative;}#sk-container-id-3 div.sk-item::before, #sk-container-id-3 div.sk-parallel-item::before {content: \"\";position: absolute;border-left: 1px solid gray;box-sizing: border-box;top: 0;bottom: 0;left: 50%;z-index: -1;}#sk-container-id-3 div.sk-parallel-item {display: flex;flex-direction: column;z-index: 1;position: relative;background-color: white;}#sk-container-id-3 div.sk-parallel-item:first-child::after {align-self: flex-end;width: 50%;}#sk-container-id-3 div.sk-parallel-item:last-child::after {align-self: flex-start;width: 50%;}#sk-container-id-3 div.sk-parallel-item:only-child::after {width: 0;}#sk-container-id-3 div.sk-dashed-wrapped {border: 1px dashed gray;margin: 0 0.4em 0.5em 0.4em;box-sizing: border-box;padding-bottom: 0.4em;background-color: white;}#sk-container-id-3 div.sk-label label {font-family: monospace;font-weight: bold;display: inline-block;line-height: 1.2em;}#sk-container-id-3 div.sk-label-container {text-align: center;}#sk-container-id-3 div.sk-container {/* jupyter's `normalize.less` sets `[hidden] { display: none; }` but bootstrap.min.css set `[hidden] { display: none !important; }` so we also need the `!important` here to be able to override the default hidden behavior on the sphinx rendered scikit-learn.org. See: https://github.com/scikit-learn/scikit-learn/issues/21755 */display: inline-block !important;position: relative;}#sk-container-id-3 div.sk-text-repr-fallback {display: none;}</style><div id=\"sk-container-id-3\" class=\"sk-top-container\"><div class=\"sk-text-repr-fallback\"><pre>SVC(C=1, gamma=1)</pre><b>In a Jupyter environment, please rerun this cell to show the HTML representation or trust the notebook. <br />On GitHub, the HTML representation is unable to render, please try loading this page with nbviewer.org.</b></div><div class=\"sk-container\" hidden><div class=\"sk-item\"><div class=\"sk-estimator sk-toggleable\"><input class=\"sk-toggleable__control sk-hidden--visually\" id=\"sk-estimator-id-3\" type=\"checkbox\" checked><label for=\"sk-estimator-id-3\" class=\"sk-toggleable__label sk-toggleable__label-arrow\">SVC</label><div class=\"sk-toggleable__content\"><pre>SVC(C=1, gamma=1)</pre></div></div></div></div></div>"
      ],
      "text/plain": [
       "SVC(C=1, gamma=1)"
      ]
     },
     "execution_count": 27,
     "metadata": {},
     "output_type": "execute_result"
    }
   ],
   "source": [
    "# (c) Build SVM model\n",
    "from sklearn import svm\n",
    "svm_model = svm.SVC(kernel='rbf', C=1, gamma=1)\n",
    "svm_model.fit(x_train_scaled, y_train)"
   ]
  },
  {
   "cell_type": "markdown",
   "id": "0d8d76cb",
   "metadata": {},
   "source": [
    "Gradient Boosting Classification"
   ]
  },
  {
   "cell_type": "markdown",
   "id": "3db14bc0",
   "metadata": {},
   "source": [
    "Gradient Boosting Classification is one of the machine learning technique which continuously train the models to improve its overall predictive performance. It is one of the ensemble technique used to improve the accuracy of the result by combining multiple models together. In Gradient Boosting Classification, decision trees serve as weak learners and each tree learns to make predictions based on the input data, capture relationship in between input data and the music genre."
   ]
  },
  {
   "cell_type": "code",
   "execution_count": 28,
   "id": "6242c132",
   "metadata": {},
   "outputs": [
    {
     "data": {
      "text/html": [
       "<style>#sk-container-id-4 {color: black;}#sk-container-id-4 pre{padding: 0;}#sk-container-id-4 div.sk-toggleable {background-color: white;}#sk-container-id-4 label.sk-toggleable__label {cursor: pointer;display: block;width: 100%;margin-bottom: 0;padding: 0.3em;box-sizing: border-box;text-align: center;}#sk-container-id-4 label.sk-toggleable__label-arrow:before {content: \"▸\";float: left;margin-right: 0.25em;color: #696969;}#sk-container-id-4 label.sk-toggleable__label-arrow:hover:before {color: black;}#sk-container-id-4 div.sk-estimator:hover label.sk-toggleable__label-arrow:before {color: black;}#sk-container-id-4 div.sk-toggleable__content {max-height: 0;max-width: 0;overflow: hidden;text-align: left;background-color: #f0f8ff;}#sk-container-id-4 div.sk-toggleable__content pre {margin: 0.2em;color: black;border-radius: 0.25em;background-color: #f0f8ff;}#sk-container-id-4 input.sk-toggleable__control:checked~div.sk-toggleable__content {max-height: 200px;max-width: 100%;overflow: auto;}#sk-container-id-4 input.sk-toggleable__control:checked~label.sk-toggleable__label-arrow:before {content: \"▾\";}#sk-container-id-4 div.sk-estimator input.sk-toggleable__control:checked~label.sk-toggleable__label {background-color: #d4ebff;}#sk-container-id-4 div.sk-label input.sk-toggleable__control:checked~label.sk-toggleable__label {background-color: #d4ebff;}#sk-container-id-4 input.sk-hidden--visually {border: 0;clip: rect(1px 1px 1px 1px);clip: rect(1px, 1px, 1px, 1px);height: 1px;margin: -1px;overflow: hidden;padding: 0;position: absolute;width: 1px;}#sk-container-id-4 div.sk-estimator {font-family: monospace;background-color: #f0f8ff;border: 1px dotted black;border-radius: 0.25em;box-sizing: border-box;margin-bottom: 0.5em;}#sk-container-id-4 div.sk-estimator:hover {background-color: #d4ebff;}#sk-container-id-4 div.sk-parallel-item::after {content: \"\";width: 100%;border-bottom: 1px solid gray;flex-grow: 1;}#sk-container-id-4 div.sk-label:hover label.sk-toggleable__label {background-color: #d4ebff;}#sk-container-id-4 div.sk-serial::before {content: \"\";position: absolute;border-left: 1px solid gray;box-sizing: border-box;top: 0;bottom: 0;left: 50%;z-index: 0;}#sk-container-id-4 div.sk-serial {display: flex;flex-direction: column;align-items: center;background-color: white;padding-right: 0.2em;padding-left: 0.2em;position: relative;}#sk-container-id-4 div.sk-item {position: relative;z-index: 1;}#sk-container-id-4 div.sk-parallel {display: flex;align-items: stretch;justify-content: center;background-color: white;position: relative;}#sk-container-id-4 div.sk-item::before, #sk-container-id-4 div.sk-parallel-item::before {content: \"\";position: absolute;border-left: 1px solid gray;box-sizing: border-box;top: 0;bottom: 0;left: 50%;z-index: -1;}#sk-container-id-4 div.sk-parallel-item {display: flex;flex-direction: column;z-index: 1;position: relative;background-color: white;}#sk-container-id-4 div.sk-parallel-item:first-child::after {align-self: flex-end;width: 50%;}#sk-container-id-4 div.sk-parallel-item:last-child::after {align-self: flex-start;width: 50%;}#sk-container-id-4 div.sk-parallel-item:only-child::after {width: 0;}#sk-container-id-4 div.sk-dashed-wrapped {border: 1px dashed gray;margin: 0 0.4em 0.5em 0.4em;box-sizing: border-box;padding-bottom: 0.4em;background-color: white;}#sk-container-id-4 div.sk-label label {font-family: monospace;font-weight: bold;display: inline-block;line-height: 1.2em;}#sk-container-id-4 div.sk-label-container {text-align: center;}#sk-container-id-4 div.sk-container {/* jupyter's `normalize.less` sets `[hidden] { display: none; }` but bootstrap.min.css set `[hidden] { display: none !important; }` so we also need the `!important` here to be able to override the default hidden behavior on the sphinx rendered scikit-learn.org. See: https://github.com/scikit-learn/scikit-learn/issues/21755 */display: inline-block !important;position: relative;}#sk-container-id-4 div.sk-text-repr-fallback {display: none;}</style><div id=\"sk-container-id-4\" class=\"sk-top-container\"><div class=\"sk-text-repr-fallback\"><pre>GradientBoostingClassifier(max_features=10, n_estimators=400, random_state=0)</pre><b>In a Jupyter environment, please rerun this cell to show the HTML representation or trust the notebook. <br />On GitHub, the HTML representation is unable to render, please try loading this page with nbviewer.org.</b></div><div class=\"sk-container\" hidden><div class=\"sk-item\"><div class=\"sk-estimator sk-toggleable\"><input class=\"sk-toggleable__control sk-hidden--visually\" id=\"sk-estimator-id-4\" type=\"checkbox\" checked><label for=\"sk-estimator-id-4\" class=\"sk-toggleable__label sk-toggleable__label-arrow\">GradientBoostingClassifier</label><div class=\"sk-toggleable__content\"><pre>GradientBoostingClassifier(max_features=10, n_estimators=400, random_state=0)</pre></div></div></div></div></div>"
      ],
      "text/plain": [
       "GradientBoostingClassifier(max_features=10, n_estimators=400, random_state=0)"
      ]
     },
     "execution_count": 28,
     "metadata": {},
     "output_type": "execute_result"
    }
   ],
   "source": [
    "from sklearn.ensemble import GradientBoostingClassifier\n",
    "gbc= GradientBoostingClassifier(n_estimators=400,learning_rate=0.1,random_state=0,max_features=10)\n",
    "\n",
    "# Fit train data to GBC\n",
    "gbc.fit(x_train_scaled,y_train)\n",
    "# print(accuracy_score(y_test, gbc.predict(x_test_scaled)))"
   ]
  },
  {
   "cell_type": "markdown",
   "id": "04da15cf",
   "metadata": {},
   "source": [
    "### A3. Classification (prediction)"
   ]
  },
  {
   "cell_type": "markdown",
   "id": "6b6f140f",
   "metadata": {},
   "source": [
    "Question 1"
   ]
  },
  {
   "cell_type": "code",
   "execution_count": 29,
   "id": "a1b2979e",
   "metadata": {},
   "outputs": [],
   "source": [
    "# Prediction for SVM model\n",
    "y_pred_svm = svm_model.predict(x_test_scaled)\n",
    "\n",
    "# Prediction for Gradient Boosting Classifier\n",
    "y_pred_gbc = gbc.predict(x_test_scaled)"
   ]
  },
  {
   "cell_type": "markdown",
   "id": "00e648de",
   "metadata": {},
   "source": [
    "Question 2"
   ]
  },
  {
   "cell_type": "code",
   "execution_count": 30,
   "id": "3daf10c0",
   "metadata": {},
   "outputs": [
    {
     "data": {
      "text/plain": [
       "array([[190,   5,  28,   5, 102,  48,  62,  63,  34, 121],\n",
       "       [ 21, 412,  56,  32,   7,  45,   0,  63,   0,   3],\n",
       "       [ 34,  60, 297,   9,  52,  63,   0, 139,   1,  22],\n",
       "       [ 15,  19,  15, 501,   3,  17,   0,  94,   0,   5],\n",
       "       [ 49,  12,  67,   4, 285,  26,  13,  71,  11, 100],\n",
       "       [ 39,  22,  28,   5,  29, 346,  16, 119,   7,  20],\n",
       "       [ 25,   0,   1,   0,   9,  14, 263,  62, 224,  41],\n",
       "       [ 16,   3,  72,  31,  34, 104,  11, 383,   5,  16],\n",
       "       [ 29,   0,   0,   0,  11,  17, 297,  41, 169,  68],\n",
       "       [113,   1,  19,   1,  42,  26,  32,  69,  29, 300]], dtype=int64)"
      ]
     },
     "execution_count": 30,
     "metadata": {},
     "output_type": "execute_result"
    }
   ],
   "source": [
    "# Making the Confusion Matrix for SVM model\n",
    "from sklearn.metrics import confusion_matrix\n",
    "cm_svm = confusion_matrix(y_test, y_pred_svm)\n",
    "cm_svm"
   ]
  },
  {
   "cell_type": "code",
   "execution_count": 32,
   "id": "cb0f6077",
   "metadata": {
    "scrolled": true
   },
   "outputs": [
    {
     "data": {
      "text/plain": [
       "array([[261,   3,  17,   2,  70,  31,  38,  46,  34, 156],\n",
       "       [ 15, 556,  25,  12,   4,  18,   0,   4,   0,   5],\n",
       "       [ 35,  27, 434,  10,  45,  26,   3,  70,   0,  27],\n",
       "       [ 18,  12,  17, 580,   3,  12,   0,  22,   0,   5],\n",
       "       [ 33,   3,  24,   1, 430,   6,  11,  35,   9,  86],\n",
       "       [ 40,  13,  31,   6,  18, 420,  11,  66,   4,  22],\n",
       "       [ 26,   0,   0,   0,   4,   4, 322,   7, 249,  27],\n",
       "       [ 31,   6,  75,  33,  30,  73,  11, 391,   3,  22],\n",
       "       [ 20,   0,   0,   0,   9,   1, 291,   3, 240,  68],\n",
       "       [ 69,   1,   6,   1,  46,   4,  27,  11,  38, 429]], dtype=int64)"
      ]
     },
     "execution_count": 32,
     "metadata": {},
     "output_type": "execute_result"
    }
   ],
   "source": [
    "# Making the Confusion Matrix for Gradient Boosting Classification model\n",
    "from sklearn.metrics import confusion_matrix\n",
    "cm_gbc = confusion_matrix(y_test, y_pred_gbc)\n",
    "cm_gbc"
   ]
  },
  {
   "cell_type": "markdown",
   "id": "8ba97f7b",
   "metadata": {},
   "source": [
    "Question 3"
   ]
  },
  {
   "cell_type": "code",
   "execution_count": 36,
   "id": "1775bd29",
   "metadata": {},
   "outputs": [
    {
     "name": "stdout",
     "output_type": "stream",
     "text": [
      "Accuracy of SVM:  0.4847457627118644\n",
      "Accuracy of GBC:  0.626040061633282\n"
     ]
    }
   ],
   "source": [
    "from sklearn.metrics import accuracy_score\n",
    "#compute the score of each model\n",
    "print(\"Accuracy of SVM: \", accuracy_score(y_test, y_pred_svm))\n",
    "print(\"Accuracy of GBC: \", accuracy_score(y_test, y_pred_gbc))"
   ]
  },
  {
   "cell_type": "markdown",
   "id": "9f2eeab3",
   "metadata": {},
   "source": [
    "Gradient Boosting Classification model perform better than SVM model. Based on the confusion matrix, we know that the diagonal elements are representing all the correctly predicted samples. For SVM model, there are a total of 3146 correct predictions out of a total of 6490 samples. While for Gradient Boosting Classification model, there are 4063 correct predictions out of a total of 6490 samples. There is a difference of 525 between both model. In terms of accuracy, Random Forest Classifier has a higher accuracy of 0.6260 compared to SVM with 0.4847 accuracy.  "
   ]
  },
  {
   "cell_type": "markdown",
   "id": "1a14beaf",
   "metadata": {},
   "source": [
    "### A4. Independent evaluation"
   ]
  },
  {
   "cell_type": "code",
   "execution_count": 37,
   "id": "36b8f4aa",
   "metadata": {},
   "outputs": [],
   "source": [
    "# Read the CSV file\n",
    "ind_data = pd.read_csv('FIT1043-MusicGenre-Submission.csv')\n",
    "# Initialize LabelEncoder\n",
    "label_encoder = LabelEncoder()\n",
    "\n",
    "# Fit LabelEncoder on artist names and transform them to numerical labels\n",
    "ind_data['track_numeric'] = label_encoder.fit_transform(ind_data['track_name'])\n",
    "ind_data['artist_numeric'] = label_encoder.fit_transform(ind_data['artist_name'])\n",
    "ind_x = ind_data.iloc[:, [3,4,5,6,7,8,9,10,11,12,13,14,15]].values \n",
    "ind_x_scaled = sc.transform(ind_x)"
   ]
  },
  {
   "cell_type": "code",
   "execution_count": 38,
   "id": "951e0a5b",
   "metadata": {},
   "outputs": [],
   "source": [
    "sub_file = pd.read_csv(\"33520496-ChewYangXuan-v1.csv\")\n",
    "\n",
    "# Make predictions using your best model\n",
    "music_predictions = gbc.predict(ind_x_scaled)\n",
    "# Add predictions to the submission_data DataFrame\n",
    "sub_file['music_genre'] = music_predictions\n",
    "sub_file.to_csv(\"33520496-ChewYangXuan-v1.csv\", index=False)"
   ]
  },
  {
   "cell_type": "markdown",
   "id": "f2eec433",
   "metadata": {},
   "source": [
    "--------------------------------------------------------------------------------------------------------------------------"
   ]
  },
  {
   "cell_type": "markdown",
   "id": "6054396b",
   "metadata": {},
   "source": [
    "## Part B: Selection of Dataset and Clustering"
   ]
  },
  {
   "cell_type": "markdown",
   "id": "1b0d16c5",
   "metadata": {},
   "source": [
    "### Input Data: BMI Dataset"
   ]
  },
  {
   "cell_type": "markdown",
   "id": "05f3d188",
   "metadata": {},
   "source": [
    "The link to access the dataset: https://www.kaggle.com/datasets/freego1/bmi-data\n",
    "This dataset consists of a collection of patients BMI data. It consists only the patient's sex, age, height in inches, weight in pounds and BMI. The dataset provided consists empty values and need to be cleaned up."
   ]
  },
  {
   "cell_type": "markdown",
   "id": "2a7fea01",
   "metadata": {},
   "source": [
    "### B1. Selection of a Dataset with missing data, Clustering"
   ]
  },
  {
   "cell_type": "markdown",
   "id": "6a85555c",
   "metadata": {},
   "source": [
    "Question 1"
   ]
  },
  {
   "cell_type": "code",
   "execution_count": 11,
   "id": "cc4675ee",
   "metadata": {},
   "outputs": [],
   "source": [
    "# import necessary library\n",
    "import matplotlib.pyplot as plt\n",
    "from sklearn.cluster import KMeans\n",
    "%matplotlib inline"
   ]
  },
  {
   "cell_type": "code",
   "execution_count": 12,
   "id": "1bce29be",
   "metadata": {},
   "outputs": [
    {
     "data": {
      "text/html": [
       "<div>\n",
       "<style scoped>\n",
       "    .dataframe tbody tr th:only-of-type {\n",
       "        vertical-align: middle;\n",
       "    }\n",
       "\n",
       "    .dataframe tbody tr th {\n",
       "        vertical-align: top;\n",
       "    }\n",
       "\n",
       "    .dataframe thead th {\n",
       "        text-align: right;\n",
       "    }\n",
       "</style>\n",
       "<table border=\"1\" class=\"dataframe\">\n",
       "  <thead>\n",
       "    <tr style=\"text-align: right;\">\n",
       "      <th></th>\n",
       "      <th>Sex</th>\n",
       "      <th>Age</th>\n",
       "      <th>Height(Inches)</th>\n",
       "      <th>Weight(Pounds)</th>\n",
       "      <th>BMI</th>\n",
       "    </tr>\n",
       "  </thead>\n",
       "  <tbody>\n",
       "    <tr>\n",
       "      <th>0</th>\n",
       "      <td>Female</td>\n",
       "      <td>21</td>\n",
       "      <td>65.78331</td>\n",
       "      <td>112.9925</td>\n",
       "      <td>18.357646</td>\n",
       "    </tr>\n",
       "    <tr>\n",
       "      <th>1</th>\n",
       "      <td>Female</td>\n",
       "      <td>35</td>\n",
       "      <td>71.51521</td>\n",
       "      <td>136.4873</td>\n",
       "      <td>18.762652</td>\n",
       "    </tr>\n",
       "    <tr>\n",
       "      <th>2</th>\n",
       "      <td>Female</td>\n",
       "      <td>27</td>\n",
       "      <td>69.39874</td>\n",
       "      <td>153.0269</td>\n",
       "      <td>22.338985</td>\n",
       "    </tr>\n",
       "    <tr>\n",
       "      <th>3</th>\n",
       "      <td>Male</td>\n",
       "      <td>24</td>\n",
       "      <td>68.21660</td>\n",
       "      <td>142.3354</td>\n",
       "      <td>21.504612</td>\n",
       "    </tr>\n",
       "    <tr>\n",
       "      <th>4</th>\n",
       "      <td>Female</td>\n",
       "      <td>18</td>\n",
       "      <td>67.78781</td>\n",
       "      <td>144.2971</td>\n",
       "      <td>22.077669</td>\n",
       "    </tr>\n",
       "  </tbody>\n",
       "</table>\n",
       "</div>"
      ],
      "text/plain": [
       "      Sex  Age  Height(Inches)  Weight(Pounds)        BMI\n",
       "0  Female   21        65.78331        112.9925  18.357646\n",
       "1  Female   35        71.51521        136.4873  18.762652\n",
       "2  Female   27        69.39874        153.0269  22.338985\n",
       "3    Male   24        68.21660        142.3354  21.504612\n",
       "4  Female   18        67.78781        144.2971  22.077669"
      ]
     },
     "execution_count": 12,
     "metadata": {},
     "output_type": "execute_result"
    }
   ],
   "source": [
    "# Load the dataset\n",
    "df = pd.read_csv('bmi_data.csv')\n",
    "df.head()"
   ]
  },
  {
   "cell_type": "code",
   "execution_count": 13,
   "id": "cb44e0e7",
   "metadata": {},
   "outputs": [
    {
     "data": {
      "text/plain": [
       "Sex                0\n",
       "Age                0\n",
       "Height(Inches)    19\n",
       "Weight(Pounds)    16\n",
       "BMI               50\n",
       "dtype: int64"
      ]
     },
     "execution_count": 13,
     "metadata": {},
     "output_type": "execute_result"
    }
   ],
   "source": [
    "# Check if there is missing values in all the columns\n",
    "df.isna().sum()"
   ]
  },
  {
   "cell_type": "code",
   "execution_count": 14,
   "id": "c1fc793f",
   "metadata": {},
   "outputs": [],
   "source": [
    "# remove the rows with non value\n",
    "df = df.dropna()"
   ]
  },
  {
   "cell_type": "code",
   "execution_count": 15,
   "id": "4d6a988a",
   "metadata": {},
   "outputs": [
    {
     "data": {
      "text/plain": [
       "Sex               0\n",
       "Age               0\n",
       "Height(Inches)    0\n",
       "Weight(Pounds)    0\n",
       "BMI               0\n",
       "dtype: int64"
      ]
     },
     "execution_count": 15,
     "metadata": {},
     "output_type": "execute_result"
    }
   ],
   "source": [
    "# Check again\n",
    "df.isna().sum()"
   ]
  },
  {
   "cell_type": "code",
   "execution_count": 20,
   "id": "a53995fb",
   "metadata": {
    "scrolled": true
   },
   "outputs": [
    {
     "data": {
      "text/html": [
       "<div>\n",
       "<style scoped>\n",
       "    .dataframe tbody tr th:only-of-type {\n",
       "        vertical-align: middle;\n",
       "    }\n",
       "\n",
       "    .dataframe tbody tr th {\n",
       "        vertical-align: top;\n",
       "    }\n",
       "\n",
       "    .dataframe thead th {\n",
       "        text-align: right;\n",
       "    }\n",
       "</style>\n",
       "<table border=\"1\" class=\"dataframe\">\n",
       "  <thead>\n",
       "    <tr style=\"text-align: right;\">\n",
       "      <th></th>\n",
       "      <th>Sex</th>\n",
       "      <th>Age</th>\n",
       "      <th>Height(Inches)</th>\n",
       "      <th>Weight(Pounds)</th>\n",
       "      <th>BMI</th>\n",
       "    </tr>\n",
       "  </thead>\n",
       "  <tbody>\n",
       "    <tr>\n",
       "      <th>4</th>\n",
       "      <td>Female</td>\n",
       "      <td>18</td>\n",
       "      <td>67.78781</td>\n",
       "      <td>144.2971</td>\n",
       "      <td>22.077669</td>\n",
       "    </tr>\n",
       "    <tr>\n",
       "      <th>42</th>\n",
       "      <td>Male</td>\n",
       "      <td>18</td>\n",
       "      <td>69.65814</td>\n",
       "      <td>139.6711</td>\n",
       "      <td>20.237722</td>\n",
       "    </tr>\n",
       "    <tr>\n",
       "      <th>46</th>\n",
       "      <td>Male</td>\n",
       "      <td>18</td>\n",
       "      <td>66.88088</td>\n",
       "      <td>145.6837</td>\n",
       "      <td>22.898436</td>\n",
       "    </tr>\n",
       "    <tr>\n",
       "      <th>58</th>\n",
       "      <td>Female</td>\n",
       "      <td>18</td>\n",
       "      <td>66.36418</td>\n",
       "      <td>119.3701</td>\n",
       "      <td>19.055788</td>\n",
       "    </tr>\n",
       "    <tr>\n",
       "      <th>96</th>\n",
       "      <td>Male</td>\n",
       "      <td>18</td>\n",
       "      <td>66.28644</td>\n",
       "      <td>120.0285</td>\n",
       "      <td>19.205862</td>\n",
       "    </tr>\n",
       "  </tbody>\n",
       "</table>\n",
       "</div>"
      ],
      "text/plain": [
       "       Sex  Age  Height(Inches)  Weight(Pounds)        BMI\n",
       "4   Female   18        67.78781        144.2971  22.077669\n",
       "42    Male   18        69.65814        139.6711  20.237722\n",
       "46    Male   18        66.88088        145.6837  22.898436\n",
       "58  Female   18        66.36418        119.3701  19.055788\n",
       "96    Male   18        66.28644        120.0285  19.205862"
      ]
     },
     "execution_count": 20,
     "metadata": {},
     "output_type": "execute_result"
    }
   ],
   "source": [
    "# filter the data to only focus on the data of age 18\n",
    "df = df[df['Age'] == 18]\n",
    "df.head()"
   ]
  },
  {
   "cell_type": "markdown",
   "id": "f824ff21",
   "metadata": {},
   "source": [
    "Question 2"
   ]
  },
  {
   "cell_type": "code",
   "execution_count": 17,
   "id": "d99a783e",
   "metadata": {},
   "outputs": [
    {
     "data": {
      "text/html": [
       "<div>\n",
       "<style scoped>\n",
       "    .dataframe tbody tr th:only-of-type {\n",
       "        vertical-align: middle;\n",
       "    }\n",
       "\n",
       "    .dataframe tbody tr th {\n",
       "        vertical-align: top;\n",
       "    }\n",
       "\n",
       "    .dataframe thead th {\n",
       "        text-align: right;\n",
       "    }\n",
       "</style>\n",
       "<table border=\"1\" class=\"dataframe\">\n",
       "  <thead>\n",
       "    <tr style=\"text-align: right;\">\n",
       "      <th></th>\n",
       "      <th>Height(Inches)</th>\n",
       "      <th>Weight(Pounds)</th>\n",
       "    </tr>\n",
       "  </thead>\n",
       "  <tbody>\n",
       "    <tr>\n",
       "      <th>4</th>\n",
       "      <td>67.78781</td>\n",
       "      <td>144.2971</td>\n",
       "    </tr>\n",
       "    <tr>\n",
       "      <th>42</th>\n",
       "      <td>69.65814</td>\n",
       "      <td>139.6711</td>\n",
       "    </tr>\n",
       "    <tr>\n",
       "      <th>46</th>\n",
       "      <td>66.88088</td>\n",
       "      <td>145.6837</td>\n",
       "    </tr>\n",
       "    <tr>\n",
       "      <th>58</th>\n",
       "      <td>66.36418</td>\n",
       "      <td>119.3701</td>\n",
       "    </tr>\n",
       "    <tr>\n",
       "      <th>96</th>\n",
       "      <td>66.28644</td>\n",
       "      <td>120.0285</td>\n",
       "    </tr>\n",
       "    <tr>\n",
       "      <th>...</th>\n",
       "      <td>...</td>\n",
       "      <td>...</td>\n",
       "    </tr>\n",
       "    <tr>\n",
       "      <th>24870</th>\n",
       "      <td>68.15859</td>\n",
       "      <td>124.2586</td>\n",
       "    </tr>\n",
       "    <tr>\n",
       "      <th>24874</th>\n",
       "      <td>65.87921</td>\n",
       "      <td>104.3570</td>\n",
       "    </tr>\n",
       "    <tr>\n",
       "      <th>24881</th>\n",
       "      <td>66.40245</td>\n",
       "      <td>132.6795</td>\n",
       "    </tr>\n",
       "    <tr>\n",
       "      <th>24895</th>\n",
       "      <td>66.84764</td>\n",
       "      <td>112.4300</td>\n",
       "    </tr>\n",
       "    <tr>\n",
       "      <th>24906</th>\n",
       "      <td>69.57141</td>\n",
       "      <td>126.5902</td>\n",
       "    </tr>\n",
       "  </tbody>\n",
       "</table>\n",
       "<p>1384 rows × 2 columns</p>\n",
       "</div>"
      ],
      "text/plain": [
       "       Height(Inches)  Weight(Pounds)\n",
       "4            67.78781        144.2971\n",
       "42           69.65814        139.6711\n",
       "46           66.88088        145.6837\n",
       "58           66.36418        119.3701\n",
       "96           66.28644        120.0285\n",
       "...               ...             ...\n",
       "24870        68.15859        124.2586\n",
       "24874        65.87921        104.3570\n",
       "24881        66.40245        132.6795\n",
       "24895        66.84764        112.4300\n",
       "24906        69.57141        126.5902\n",
       "\n",
       "[1384 rows x 2 columns]"
      ]
     },
     "execution_count": 17,
     "metadata": {},
     "output_type": "execute_result"
    }
   ],
   "source": [
    "# selected the height and weight columns from the data frame\n",
    "columns = ['Height(Inches)', 'Weight(Pounds)']\n",
    "df_selected = df.loc[:,columns]\n",
    "df_selected"
   ]
  },
  {
   "cell_type": "code",
   "execution_count": 18,
   "id": "73a005f3",
   "metadata": {},
   "outputs": [],
   "source": [
    "# Run the K-means clustering over the dataset using only height and weight\n",
    "# cluster the data set into 3 subgroups\n",
    "kmeans = KMeans(n_clusters=3, n_init=10).fit(df_selected[['Weight(Pounds)','Height(Inches)']])"
   ]
  },
  {
   "cell_type": "code",
   "execution_count": 19,
   "id": "b0feb9de",
   "metadata": {},
   "outputs": [
    {
     "data": {
      "image/png": "[encoded data removed]",
      "text/plain": [
       "<Figure size 640x480 with 1 Axes>"
      ]
     },
     "metadata": {},
     "output_type": "display_data"
    }
   ],
   "source": [
    "# Visualise the output labels\n",
    "plt.scatter(\n",
    " x=df_selected['Weight(Pounds)'],y=df_selected['Height(Inches)'],\n",
    " c=kmeans.labels_)\n",
    "# Visualise the cluster centers (black stars)\n",
    "plt.plot(\n",
    " kmeans.cluster_centers_[:,0],\n",
    " kmeans.cluster_centers_[:,1],\n",
    " 'k*',\n",
    " markersize=20\n",
    ")\n",
    "plt.xlabel('Weight(Pounds)')\n",
    "plt.ylabel('Height(Inches)')\n",
    "plt.show()\n"
   ]
  },
  {
   "cell_type": "markdown",
   "id": "4741c9bc",
   "metadata": {},
   "source": [
    "Question 3"
   ]
  },
  {
   "cell_type": "markdown",
   "id": "c1a54f81",
   "metadata": {},
   "source": [
    "The scatter plot above shows the application of k-means clustering to classify the teens in the age 18 into 3 different clusters based on their height and weight. Cluster 1 with yellow in colours indicating the teens which are having low weight and lower height. This indicates a low BMI values which can be categorised as underweight group. Cluster 2 with purple in colour exhibited a smaller range compared to cluster 1. This cluster are mainly concentrated around 120 to 130 Pounds which can be consider as normal weight. Cluster 3 which is green in colour indicates overweight with higher weight and height. Overall, underweight and overweight clusters poses higher range compared to normal weight cluster. It is important for underweight groups to maintain a balance healthy diet with proper proportion of nutrients. While for overweight cluster, they should change their lifestyle routine and address weight management so that they can reduce the risk of getting obesity-related health diseases. In short, the clustering results concludes that most of the teenagers nowadays are having bad lifestyle in their daily routine."
   ]
  },
  {
   "cell_type": "markdown",
   "id": "ba924a53",
   "metadata": {},
   "source": [
    " "
   ]
  },
  {
   "cell_type": "markdown",
   "id": "10c55a66",
   "metadata": {},
   "source": [
    " "
   ]
  },
  {
   "cell_type": "markdown",
   "id": "35b60df6",
   "metadata": {},
   "source": [
    " "
   ]
  },
  {
   "cell_type": "markdown",
   "id": "677f9f82",
   "metadata": {},
   "source": [
    "   "
   ]
  },
  {
   "cell_type": "markdown",
   "id": "87117617",
   "metadata": {},
   "source": [
    "    "
   ]
  },
  {
   "cell_type": "markdown",
   "id": "57e913d2",
   "metadata": {},
   "source": [
    "      "
   ]
  },
  {
   "cell_type": "markdown",
   "id": "7d643aa7",
   "metadata": {},
   "source": [
    "  "
   ]
  },
  {
   "cell_type": "markdown",
   "id": "8eae9c4e",
   "metadata": {},
   "source": [
    "   "
   ]
  },
  {
   "cell_type": "markdown",
   "id": "a8171bfd",
   "metadata": {},
   "source": [
    "    "
   ]
  },
  {
   "cell_type": "markdown",
   "id": "38aa50b2",
   "metadata": {},
   "source": [
    "   "
   ]
  },
  {
   "cell_type": "markdown",
   "id": "1bfc694b",
   "metadata": {},
   "source": [
    "-------------------------------------------------------------------------------------------------------------------"
   ]
  },
  {
   "cell_type": "markdown",
   "id": "61ff4d5a",
   "metadata": {},
   "source": [
    "##                                                                 References"
   ]
  },
  {
   "cell_type": "markdown",
   "id": "7dc51d01",
   "metadata": {},
   "source": [
    "Chugh, A. (2018, October 15). ML | Label Encoding of datasets in Python. GeeksforGeeks. https://www.geeksforgeeks.org/ml-label-encoding-of-datasets-in-python/"
   ]
  },
  {
   "cell_type": "markdown",
   "id": "6b4d50ac",
   "metadata": {},
   "source": [
    "Hoare, J. (2017, June 5). Gradient Boosting Explained - The Coolest Kid on The Machine Learning Block. Displayr. https://www.displayr.com/gradient-boosting-the-coolest-kid-on-the-machine-learning-block/#:~:text=Gradient%20boosting%20is%20a%20type"
   ]
  },
  {
   "cell_type": "markdown",
   "id": "bedea9c2",
   "metadata": {},
   "source": [
    "Kharwal, A. (2021, July 1). Calculation of Accuracy using Python | Aman Kharwal. Thecleverprogrammer. https://thecleverprogrammer.com/2021/07/01/calculation-of-accuracy-using-python/"
   ]
  },
  {
   "cell_type": "markdown",
   "id": "2eca9302",
   "metadata": {},
   "source": [
    "Mishra, U. (2021, May 16). Binary and Multiclass Classification in Machine Learning | Analytics Steps. Www.analyticssteps.com. https://www.analyticssteps.com/blogs/binary-and-multiclass-classification-machine-learning"
   ]
  },
  {
   "cell_type": "markdown",
   "id": "cc87bbd5",
   "metadata": {},
   "source": [
    "Ngo, H. (2022, August 9). How to Clean Your Data in Python. Medium. https://towardsdatascience.com/how-to-clean-your-data-in-python-8f178638b98d"
   ]
  },
  {
   "cell_type": "markdown",
   "id": "22d16b29",
   "metadata": {},
   "source": [
    "Saini, A. (2021a, September 20). Gradient Boosting Algorithm: A Complete Guide for Beginners. Analytics Vidhya. https://www.analyticsvidhya.com/blog/2021/09/gradient-boosting-algorithm-a-complete-guide-for-beginners/"
   ]
  },
  {
   "cell_type": "markdown",
   "id": "e50e5881",
   "metadata": {},
   "source": [
    "Saini, A. (2021b, October 12). Support Vector Machine(SVM): A Complete guide for beginners. Analytics Vidhya. https://www.analyticsvidhya.com/blog/2021/10/support-vector-machinessvm-a-complete-guide-for-beginners/"
   ]
  },
  {
   "cell_type": "markdown",
   "id": "badadd9b",
   "metadata": {},
   "source": [
    "Wolff, R. (2020, November 2). What Is Training Data in Machine Learning? MonkeyLearn Blog. https://monkeylearn.com/blog/training-data/"
   ]
  },
  {
   "cell_type": "markdown",
   "id": "cb4b91fd",
   "metadata": {},
   "source": [
    "Zoltan, C. (2020, May 3). SVM and Kernel SVM. Medium. https://towardsdatascience.com/svm-and-kernel-svm-fed02bef1200"
   ]
  }
 ],
 "metadata": {
  "kernelspec": {
   "display_name": "Python 3 (ipykernel)",
   "language": "python",
   "name": "python3"
  },
  "language_info": {
   "codemirror_mode": {
    "name": "ipython",
    "version": 3
   },
   "file_extension": ".py",
   "mimetype": "text/x-python",
   "name": "python",
   "nbconvert_exporter": "python",
   "pygments_lexer": "ipython3",
   "version": "3.11.5"
  }
 },
 "nbformat": 4,
 "nbformat_minor": 5
}
